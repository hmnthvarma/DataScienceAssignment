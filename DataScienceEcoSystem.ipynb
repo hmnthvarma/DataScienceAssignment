{
 "cells": [
  {
   "cell_type": "markdown",
   "id": "7a18b48f",
   "metadata": {},
   "source": [
    "# Data Science Tools and Ecosystem"
   ]
  },
  {
   "cell_type": "markdown",
   "id": "3acc307a",
   "metadata": {},
   "source": [
    "In this notebook, Data Science Tools and Ecosystem are summarized."
   ]
  },
  {
   "cell_type": "markdown",
   "id": "0ba3f114",
   "metadata": {},
   "source": [
    "Some of the popular languages that Data Scientists use are:\n",
    "\n",
    "    1.Python\n",
    "    2. R\n",
    "    3. SQL\n",
    "    4. Scala"
   ]
  },
  {
   "cell_type": "markdown",
   "id": "5da25470",
   "metadata": {},
   "source": [
    "Some of the commonly used libraries used by Data Scientists include:\n",
    "\n",
    "    1.SciPy\n",
    "    2.NumPy\n",
    "    3.Tensorflow\n",
    "    4.Keras\n",
    "    5.Matplotlib"
   ]
  },
  {
   "cell_type": "markdown",
   "id": "dae96cee",
   "metadata": {},
   "source": [
    "| Data Science Tools| \n",
    "-------\n",
    "| Jupyter|\n",
    "| ApacheSpark|\n",
    "| RStudio |\n"
   ]
  },
  {
   "cell_type": "markdown",
   "id": "5aa94196",
   "metadata": {},
   "source": [
    "### Below are a few examples of evaluating arithmetic expressions in Python"
   ]
  },
  {
   "cell_type": "code",
   "execution_count": 3,
   "id": "1fa7762c",
   "metadata": {},
   "outputs": [
    {
     "data": {
      "text/plain": [
       "17"
      ]
     },
     "execution_count": 3,
     "metadata": {},
     "output_type": "execute_result"
    }
   ],
   "source": [
    "(3*4)+5"
   ]
  },
  {
   "cell_type": "code",
   "execution_count": 4,
   "id": "8a7cd142",
   "metadata": {},
   "outputs": [
    {
     "data": {
      "text/plain": [
       "3.3333333333333335"
      ]
     },
     "execution_count": 4,
     "metadata": {},
     "output_type": "execute_result"
    }
   ],
   "source": [
    "# This will convert 200 minutes to hours by dividing by 60\n",
    "200/60"
   ]
  },
  {
   "cell_type": "markdown",
   "id": "ee280346",
   "metadata": {},
   "source": [
    "**Objectives:**\n",
    "* Python\n",
    "* R\n",
    "* SQL\n",
    "* Scala\n"
   ]
  },
  {
   "cell_type": "markdown",
   "id": "2141cf22",
   "metadata": {},
   "source": [
    "## Author\n",
    "Hemanth Varma Gottimukkala"
   ]
  },
  {
   "cell_type": "code",
   "execution_count": null,
   "id": "3f13bd9f",
   "metadata": {},
   "outputs": [],
   "source": []
  }
 ],
 "metadata": {
  "kernelspec": {
   "display_name": "Python 3 (ipykernel)",
   "language": "python",
   "name": "python3"
  },
  "language_info": {
   "codemirror_mode": {
    "name": "ipython",
    "version": 3
   },
   "file_extension": ".py",
   "mimetype": "text/x-python",
   "name": "python",
   "nbconvert_exporter": "python",
   "pygments_lexer": "ipython3",
   "version": "3.10.9"
  }
 },
 "nbformat": 4,
 "nbformat_minor": 5
}
